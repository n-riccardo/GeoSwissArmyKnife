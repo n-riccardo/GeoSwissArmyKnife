{
 "cells": [
  {
   "cell_type": "code",
   "execution_count": 12,
   "metadata": {},
   "outputs": [
    {
     "name": "stderr",
     "output_type": "stream",
     "text": [
      "WARNING: replacing module SwissArmyKnife.\n"
     ]
    }
   ],
   "source": [
    "include(\"../SwissArmyKnife.jl\")\n",
    "import Main.SwissArmyKnife as SAK# In order to have it without the prefix \"Main.\"\n",
    "using CSV\n",
    "using DataFrames\n",
    "using Plots\n",
    "using GMT"
   ]
  },
  {
   "cell_type": "code",
   "execution_count": 2,
   "metadata": {},
   "outputs": [
    {
     "data": {
      "text/html": [
       "<div><div style = \"float: left;\"><span>3×10 DataFrame</span></div><div style = \"clear: both;\"></div></div><div class = \"data-frame\" style = \"overflow-x: scroll;\"><table class = \"data-frame\" style = \"margin-bottom: 6px;\"><thead><tr class = \"header\"><th class = \"rowNumber\" style = \"font-weight: bold; text-align: right;\">Row</th><th style = \"text-align: left;\">Long</th><th style = \"text-align: left;\">Lat</th><th style = \"text-align: left;\">E_Rate</th><th style = \"text-align: left;\">N_Rate</th><th style = \"text-align: left;\">U_Rate</th><th style = \"text-align: left;\">σ_E</th><th style = \"text-align: left;\">σ_N</th><th style = \"text-align: left;\">σ_U</th><th style = \"text-align: left;\">ρ</th><th style = \"text-align: left;\">Site</th></tr><tr class = \"subheader headerLastRow\"><th class = \"rowNumber\" style = \"font-weight: bold; text-align: right;\"></th><th title = \"Float64\" style = \"text-align: left;\">Float64</th><th title = \"Float64\" style = \"text-align: left;\">Float64</th><th title = \"Float64\" style = \"text-align: left;\">Float64</th><th title = \"Float64\" style = \"text-align: left;\">Float64</th><th title = \"Float64\" style = \"text-align: left;\">Float64</th><th title = \"Float64\" style = \"text-align: left;\">Float64</th><th title = \"Float64\" style = \"text-align: left;\">Float64</th><th title = \"Float64\" style = \"text-align: left;\">Float64</th><th title = \"Float64\" style = \"text-align: left;\">Float64</th><th title = \"String\" style = \"text-align: left;\">String</th></tr></thead><tbody><tr><td class = \"rowNumber\" style = \"font-weight: bold; text-align: right;\">1</td><td style = \"text-align: right;\">11.5901</td><td style = \"text-align: right;\">48.1411</td><td style = \"text-align: right;\">0.201</td><td style = \"text-align: right;\">0.146</td><td style = \"text-align: right;\">-0.019</td><td style = \"text-align: right;\">0.02</td><td style = \"text-align: right;\">0.045</td><td style = \"text-align: right;\">0.307</td><td style = \"text-align: right;\">0.0</td><td style = \"text-align: left;\">0256_GPS</td></tr><tr><td class = \"rowNumber\" style = \"font-weight: bold; text-align: right;\">2</td><td style = \"text-align: right;\">12.5657</td><td style = \"text-align: right;\">48.8742</td><td style = \"text-align: right;\">0.321</td><td style = \"text-align: right;\">0.139</td><td style = \"text-align: right;\">0.814</td><td style = \"text-align: right;\">0.017</td><td style = \"text-align: right;\">0.038</td><td style = \"text-align: right;\">0.304</td><td style = \"text-align: right;\">0.0</td><td style = \"text-align: left;\">0257_GPS</td></tr><tr><td class = \"rowNumber\" style = \"font-weight: bold; text-align: right;\">3</td><td style = \"text-align: right;\">11.5061</td><td style = \"text-align: right;\">48.5321</td><td style = \"text-align: right;\">0.267</td><td style = \"text-align: right;\">0.268</td><td style = \"text-align: right;\">0.04</td><td style = \"text-align: right;\">0.02</td><td style = \"text-align: right;\">0.047</td><td style = \"text-align: right;\">0.321</td><td style = \"text-align: right;\">0.0</td><td style = \"text-align: left;\">0258_GPS</td></tr></tbody></table></div>"
      ],
      "text/latex": [
       "\\begin{tabular}{r|cccccccccc}\n",
       "\t& Long & Lat & E\\_Rate & N\\_Rate & U\\_Rate & σ\\_E & σ\\_N & σ\\_U & ρ & \\\\\n",
       "\t\\hline\n",
       "\t& Float64 & Float64 & Float64 & Float64 & Float64 & Float64 & Float64 & Float64 & Float64 & \\\\\n",
       "\t\\hline\n",
       "\t1 & 11.5901 & 48.1411 & 0.201 & 0.146 & -0.019 & 0.02 & 0.045 & 0.307 & 0.0 & $\\dots$ \\\\\n",
       "\t2 & 12.5657 & 48.8742 & 0.321 & 0.139 & 0.814 & 0.017 & 0.038 & 0.304 & 0.0 & $\\dots$ \\\\\n",
       "\t3 & 11.5061 & 48.5321 & 0.267 & 0.268 & 0.04 & 0.02 & 0.047 & 0.321 & 0.0 & $\\dots$ \\\\\n",
       "\\end{tabular}\n"
      ],
      "text/plain": [
       "\u001b[1m3×10 DataFrame\u001b[0m\n",
       "\u001b[1m Row \u001b[0m│\u001b[1m Long    \u001b[0m\u001b[1m Lat     \u001b[0m\u001b[1m E_Rate  \u001b[0m\u001b[1m N_Rate  \u001b[0m\u001b[1m U_Rate  \u001b[0m\u001b[1m σ_E     \u001b[0m\u001b[1m σ_N     \u001b[0m\u001b[1m σ_U     \u001b[0m\u001b[1m\u001b[0m ⋯\n",
       "     │\u001b[90m Float64 \u001b[0m\u001b[90m Float64 \u001b[0m\u001b[90m Float64 \u001b[0m\u001b[90m Float64 \u001b[0m\u001b[90m Float64 \u001b[0m\u001b[90m Float64 \u001b[0m\u001b[90m Float64 \u001b[0m\u001b[90m Float64 \u001b[0m\u001b[90m\u001b[0m ⋯\n",
       "─────┼──────────────────────────────────────────────────────────────────────────\n",
       "   1 │ 11.5901  48.1411    0.201    0.146   -0.019    0.02     0.045    0.307  ⋯\n",
       "   2 │ 12.5657  48.8742    0.321    0.139    0.814    0.017    0.038    0.304\n",
       "   3 │ 11.5061  48.5321    0.267    0.268    0.04     0.02     0.047    0.321\n",
       "\u001b[36m                                                               2 columns omitted\u001b[0m"
      ]
     },
     "metadata": {},
     "output_type": "display_data"
    }
   ],
   "source": [
    "DFmasterName=\"/mnt/c/Users/rikin/Desktop/Block_modeling/GNSSVeloFields/FltDatasets/FltDatasetEurasiaFixed.csv\";\n",
    "\n",
    "DFmaster = CSV.read(DFmasterName,DataFrame);\n",
    "DFmaster.Site = String.(DFmaster.Site)\n",
    "first(DFmaster,3)"
   ]
  },
  {
   "cell_type": "code",
   "execution_count": 3,
   "metadata": {},
   "outputs": [
    {
     "data": {
      "text/html": [
       "<div><div style = \"float: left;\"><span>3×13 DataFrame</span></div><div style = \"clear: both;\"></div></div><div class = \"data-frame\" style = \"overflow-x: scroll;\"><table class = \"data-frame\" style = \"margin-bottom: 6px;\"><thead><tr class = \"header\"><th class = \"rowNumber\" style = \"font-weight: bold; text-align: right;\">Row</th><th style = \"text-align: left;\">Lon</th><th style = \"text-align: left;\">Lat</th><th style = \"text-align: left;\">E.vel</th><th style = \"text-align: left;\">N.vel</th><th style = \"text-align: left;\">E.adj</th><th style = \"text-align: left;\">N.adj</th><th style = \"text-align: left;\">E.sig</th><th style = \"text-align: left;\">N.sig</th><th style = \"text-align: left;\">Corr</th><th style = \"text-align: left;\">U.vel</th><th style = \"text-align: left;\">U.adj</th><th style = \"text-align: left;\">U.sig</th><th style = \"text-align: left;\">Stat</th></tr><tr class = \"subheader headerLastRow\"><th class = \"rowNumber\" style = \"font-weight: bold; text-align: right;\"></th><th title = \"Float64\" style = \"text-align: left;\">Float64</th><th title = \"Float64\" style = \"text-align: left;\">Float64</th><th title = \"Float64\" style = \"text-align: left;\">Float64</th><th title = \"Float64\" style = \"text-align: left;\">Float64</th><th title = \"Float64\" style = \"text-align: left;\">Float64</th><th title = \"Float64\" style = \"text-align: left;\">Float64</th><th title = \"Float64\" style = \"text-align: left;\">Float64</th><th title = \"Float64\" style = \"text-align: left;\">Float64</th><th title = \"Float64\" style = \"text-align: left;\">Float64</th><th title = \"Float64\" style = \"text-align: left;\">Float64</th><th title = \"Float64\" style = \"text-align: left;\">Float64</th><th title = \"Float64\" style = \"text-align: left;\">Float64</th><th title = \"String\" style = \"text-align: left;\">String</th></tr></thead><tbody><tr><td class = \"rowNumber\" style = \"font-weight: bold; text-align: right;\">1</td><td style = \"text-align: right;\">15.9424</td><td style = \"text-align: right;\">40.7867</td><td style = \"text-align: right;\">23.48</td><td style = \"text-align: right;\">19.38</td><td style = \"text-align: right;\">0.0</td><td style = \"text-align: right;\">0.0</td><td style = \"text-align: right;\">0.18</td><td style = \"text-align: right;\">0.14</td><td style = \"text-align: right;\">0.0</td><td style = \"text-align: right;\">0.53</td><td style = \"text-align: right;\">0.0</td><td style = \"text-align: right;\">0.61</td><td style = \"text-align: left;\">ACER_GPS</td></tr><tr><td class = \"rowNumber\" style = \"font-weight: bold; text-align: right;\">2</td><td style = \"text-align: right;\">3.6802</td><td style = \"text-align: right;\">47.1243</td><td style = \"text-align: right;\">19.02</td><td style = \"text-align: right;\">16.19</td><td style = \"text-align: right;\">0.0</td><td style = \"text-align: right;\">0.0</td><td style = \"text-align: right;\">0.16</td><td style = \"text-align: right;\">0.17</td><td style = \"text-align: right;\">0.0</td><td style = \"text-align: right;\">-0.44</td><td style = \"text-align: right;\">0.0</td><td style = \"text-align: right;\">0.55</td><td style = \"text-align: left;\">ACHU_GPS</td></tr><tr><td class = \"rowNumber\" style = \"font-weight: bold; text-align: right;\">3</td><td style = \"text-align: right;\">-8.3989</td><td style = \"text-align: right;\">43.3643</td><td style = \"text-align: right;\">20.83</td><td style = \"text-align: right;\">16.87</td><td style = \"text-align: right;\">0.0</td><td style = \"text-align: right;\">0.0</td><td style = \"text-align: right;\">0.12</td><td style = \"text-align: right;\">0.11</td><td style = \"text-align: right;\">0.0</td><td style = \"text-align: right;\">-2.26</td><td style = \"text-align: right;\">0.0</td><td style = \"text-align: right;\">0.39</td><td style = \"text-align: left;\">ACOR_GPS</td></tr></tbody></table></div>"
      ],
      "text/latex": [
       "\\begin{tabular}{r|cccccccccc}\n",
       "\t& Lon & Lat & E.vel & N.vel & E.adj & N.adj & E.sig & N.sig & Corr & \\\\\n",
       "\t\\hline\n",
       "\t& Float64 & Float64 & Float64 & Float64 & Float64 & Float64 & Float64 & Float64 & Float64 & \\\\\n",
       "\t\\hline\n",
       "\t1 & 15.9424 & 40.7867 & 23.48 & 19.38 & 0.0 & 0.0 & 0.18 & 0.14 & 0.0 & $\\dots$ \\\\\n",
       "\t2 & 3.6802 & 47.1243 & 19.02 & 16.19 & 0.0 & 0.0 & 0.16 & 0.17 & 0.0 & $\\dots$ \\\\\n",
       "\t3 & -8.3989 & 43.3643 & 20.83 & 16.87 & 0.0 & 0.0 & 0.12 & 0.11 & 0.0 & $\\dots$ \\\\\n",
       "\\end{tabular}\n"
      ],
      "text/plain": [
       "\u001b[1m3×13 DataFrame\u001b[0m\n",
       "\u001b[1m Row \u001b[0m│\u001b[1m Lon     \u001b[0m\u001b[1m Lat     \u001b[0m\u001b[1m E.vel   \u001b[0m\u001b[1m N.vel   \u001b[0m\u001b[1m E.adj   \u001b[0m\u001b[1m N.adj   \u001b[0m\u001b[1m E.sig   \u001b[0m\u001b[1m N.sig   \u001b[0m\u001b[1m\u001b[0m ⋯\n",
       "     │\u001b[90m Float64 \u001b[0m\u001b[90m Float64 \u001b[0m\u001b[90m Float64 \u001b[0m\u001b[90m Float64 \u001b[0m\u001b[90m Float64 \u001b[0m\u001b[90m Float64 \u001b[0m\u001b[90m Float64 \u001b[0m\u001b[90m Float64 \u001b[0m\u001b[90m\u001b[0m ⋯\n",
       "─────┼──────────────────────────────────────────────────────────────────────────\n",
       "   1 │ 15.9424  40.7867    23.48    19.38      0.0      0.0     0.18     0.14  ⋯\n",
       "   2 │  3.6802  47.1243    19.02    16.19      0.0      0.0     0.16     0.17\n",
       "   3 │ -8.3989  43.3643    20.83    16.87      0.0      0.0     0.12     0.11\n",
       "\u001b[36m                                                               5 columns omitted\u001b[0m"
      ]
     },
     "metadata": {},
     "output_type": "display_data"
    }
   ],
   "source": [
    "DFslaveName=\"./pinaValdes_2022.vel\"\n",
    "\n",
    "DFslave = CSV.read(DFslaveName,DataFrame,header=true)\n",
    "DFslave.Stat = String.(DFslave.Stat)\n",
    "first(DFslave,3)"
   ]
  },
  {
   "cell_type": "code",
   "execution_count": 22,
   "metadata": {},
   "outputs": [
    {
     "name": "stdout",
     "output_type": "stream",
     "text": [
      "\n",
      " VELROT: Velocity field comparison and combination Version 1.01\n",
      "\n",
      " There are  4837 sites in sys file Slave.vel\n",
      " Rotating from EURA       to EURA       using rotation vector     0.000000    0.000000    0.000000 degs/Myrs\n",
      " There are  2841 sites in sys file Master.vel\n",
      " Rotating from EURA       to EURA       using rotation vector     0.000000    0.000000    0.000000 degs/Myrs\n"
     ]
    },
    {
     "name": "stderr",
     "output_type": "stream",
     "text": [
      "WARNING: replacing module SwissArmyKnife.\n"
     ]
    },
    {
     "name": "stdout",
     "output_type": "stream",
     "text": [
      " There are  2473 matching sites in fundamental file link.file\n",
      "S Component North    #  2473 WMean  -0.01 WRMS   0.31 mm/yr, NRMS   1.636\n",
      "S Component North    #  2473 WMean  -0.01 WRMS   0.31 mm/yr, NRMS   1.636\n",
      "S Component East     #  2473 WMean   0.00 WRMS   0.27 mm/yr, NRMS   1.503\n",
      "S Component East     #  2473 WMean   0.00 WRMS   0.27 mm/yr, NRMS   1.503\n",
      "S Component Up       #  2473 WMean  -0.02 WRMS   0.54 mm/yr, NRMS   0.732\n",
      "S Component Up       #  2473 WMean  -0.02 WRMS   0.54 mm/yr, NRMS   0.732\n",
      "S Component Horz     #  2473 WMean  -0.00 WRMS   0.29 mm/yr, NRMS   1.571\n",
      "S Component Horz     #  2473 WMean  -0.00 WRMS   0.29 mm/yr, NRMS   1.571\n",
      "7334"
     ]
    }
   ],
   "source": [
    "include(\"../SwissArmyKnife.jl\")\n",
    "import Main.SwissArmyKnife as SAK# In order to have it without the prefix \"Main.\"\n",
    "MasterDataset=DFmaster[:,[1,2,3,4,5,6,7,8,10]]\n",
    "SlaveDataset=DFslave[:,[1,2,3,4,10,7,8,12,13]]\n",
    "\n",
    "indxCommonMaster, indxCommonSlave, SlaveInMaster, MasterInSlave = SAK.call_velrot(MasterDataset,SlaveDataset,1);"
   ]
  },
  {
   "cell_type": "code",
   "execution_count": null,
   "metadata": {},
   "outputs": [],
   "source": [
    "range_plot=[0,30,30,50]\n",
    "SAK.plot_vector_map_S(range_plot, 5e-2, Matrix(MasterDataset2[:,[1,2,3,4]]),projection_s=\"M10c\",color=\"red\",pen_velo=\"0.012c,red\")\n",
    "SAK.plot_vector_map_S(range_plot, 5e-2, Matrix(SlaveInMaster[:,[1,2,3,4]]),color=\"blue\",pen_velo=\"0.012c,blue\",Are_you_Overwriting=true)\n",
    "GMT.plot!([NaN],[NaN],name=\"jonnhy.pdf\")"
   ]
  },
  {
   "cell_type": "code",
   "execution_count": 18,
   "metadata": {},
   "outputs": [
    {
     "data": {
      "text/html": [
       "<div><div style = \"float: left;\"><span>2343×9 DataFrame</span></div><div style = \"float: right;\"><span style = \"font-style: italic;\">2318 rows omitted</span></div><div style = \"clear: both;\"></div></div><div class = \"data-frame\" style = \"overflow-x: scroll;\"><table class = \"data-frame\" style = \"margin-bottom: 6px;\"><thead><tr class = \"header\"><th class = \"rowNumber\" style = \"font-weight: bold; text-align: right;\">Row</th><th style = \"text-align: left;\">Lon</th><th style = \"text-align: left;\">Lat</th><th style = \"text-align: left;\">E.vel</th><th style = \"text-align: left;\">N.vel</th><th style = \"text-align: left;\">U.vel</th><th style = \"text-align: left;\">E.sig</th><th style = \"text-align: left;\">N.sig</th><th style = \"text-align: left;\">U.sig</th><th style = \"text-align: left;\">Stat</th></tr><tr class = \"subheader headerLastRow\"><th class = \"rowNumber\" style = \"font-weight: bold; text-align: right;\"></th><th title = \"Float64\" style = \"text-align: left;\">Float64</th><th title = \"Float64\" style = \"text-align: left;\">Float64</th><th title = \"Float64\" style = \"text-align: left;\">Float64</th><th title = \"Float64\" style = \"text-align: left;\">Float64</th><th title = \"Float64\" style = \"text-align: left;\">Float64</th><th title = \"Float64\" style = \"text-align: left;\">Float64</th><th title = \"Float64\" style = \"text-align: left;\">Float64</th><th title = \"Float64\" style = \"text-align: left;\">Float64</th><th title = \"String\" style = \"text-align: left;\">String</th></tr></thead><tbody><tr><td class = \"rowNumber\" style = \"font-weight: bold; text-align: right;\">1</td><td style = \"text-align: right;\">15.9424</td><td style = \"text-align: right;\">40.7867</td><td style = \"text-align: right;\">23.48</td><td style = \"text-align: right;\">19.38</td><td style = \"text-align: right;\">0.53</td><td style = \"text-align: right;\">0.18</td><td style = \"text-align: right;\">0.14</td><td style = \"text-align: right;\">0.61</td><td style = \"text-align: left;\">ACER_GPS</td></tr><tr><td class = \"rowNumber\" style = \"font-weight: bold; text-align: right;\">2</td><td style = \"text-align: right;\">-8.3989</td><td style = \"text-align: right;\">43.3643</td><td style = \"text-align: right;\">20.83</td><td style = \"text-align: right;\">16.87</td><td style = \"text-align: right;\">-2.26</td><td style = \"text-align: right;\">0.12</td><td style = \"text-align: right;\">0.11</td><td style = \"text-align: right;\">0.39</td><td style = \"text-align: left;\">ACOR_GPS</td></tr><tr><td class = \"rowNumber\" style = \"font-weight: bold; text-align: right;\">3</td><td style = \"text-align: right;\">-4.7412</td><td style = \"text-align: right;\">52.7891</td><td style = \"text-align: right;\">15.73</td><td style = \"text-align: right;\">16.68</td><td style = \"text-align: right;\">-0.02</td><td style = \"text-align: right;\">0.11</td><td style = \"text-align: right;\">0.11</td><td style = \"text-align: right;\">0.39</td><td style = \"text-align: left;\">ADAR_GPS</td></tr><tr><td class = \"rowNumber\" style = \"font-weight: bold; text-align: right;\">4</td><td style = \"text-align: right;\">-1.0557</td><td style = \"text-align: right;\">43.7108</td><td style = \"text-align: right;\">18.64</td><td style = \"text-align: right;\">16.35</td><td style = \"text-align: right;\">-0.48</td><td style = \"text-align: right;\">0.16</td><td style = \"text-align: right;\">0.16</td><td style = \"text-align: right;\">0.51</td><td style = \"text-align: left;\">ADAX_GPS</td></tr><tr><td class = \"rowNumber\" style = \"font-weight: bold; text-align: right;\">5</td><td style = \"text-align: right;\">23.4353</td><td style = \"text-align: right;\">40.0971</td><td style = \"text-align: right;\">24.91</td><td style = \"text-align: right;\">5.38</td><td style = \"text-align: right;\">-2.59</td><td style = \"text-align: right;\">0.49</td><td style = \"text-align: right;\">0.46</td><td style = \"text-align: right;\">1.72</td><td style = \"text-align: left;\">AFYT_GPS</td></tr><tr><td class = \"rowNumber\" style = \"font-weight: bold; text-align: right;\">6</td><td style = \"text-align: right;\">3.4663</td><td style = \"text-align: right;\">43.2963</td><td style = \"text-align: right;\">19.87</td><td style = \"text-align: right;\">16.24</td><td style = \"text-align: right;\">-0.59</td><td style = \"text-align: right;\">0.15</td><td style = \"text-align: right;\">0.19</td><td style = \"text-align: right;\">0.44</td><td style = \"text-align: left;\">AGDE_GPS</td></tr><tr><td class = \"rowNumber\" style = \"font-weight: bold; text-align: right;\">7</td><td style = \"text-align: right;\">3.4743</td><td style = \"text-align: right;\">43.3127</td><td style = \"text-align: right;\">19.92</td><td style = \"text-align: right;\">16.2</td><td style = \"text-align: right;\">-0.62</td><td style = \"text-align: right;\">0.14</td><td style = \"text-align: right;\">0.14</td><td style = \"text-align: right;\">0.46</td><td style = \"text-align: left;\">AGDS_GPS</td></tr><tr><td class = \"rowNumber\" style = \"font-weight: bold; text-align: right;\">8</td><td style = \"text-align: right;\">0.6117</td><td style = \"text-align: right;\">44.1726</td><td style = \"text-align: right;\">18.87</td><td style = \"text-align: right;\">16.72</td><td style = \"text-align: right;\">-0.84</td><td style = \"text-align: right;\">0.17</td><td style = \"text-align: right;\">0.17</td><td style = \"text-align: right;\">0.61</td><td style = \"text-align: left;\">AGEN_GPS</td></tr><tr><td class = \"rowNumber\" style = \"font-weight: bold; text-align: right;\">9</td><td style = \"text-align: right;\">-1.0143</td><td style = \"text-align: right;\">43.3337</td><td style = \"text-align: right;\">19.13</td><td style = \"text-align: right;\">16.4</td><td style = \"text-align: right;\">-0.1</td><td style = \"text-align: right;\">0.2</td><td style = \"text-align: right;\">0.22</td><td style = \"text-align: right;\">0.62</td><td style = \"text-align: left;\">AICI_GPS</td></tr><tr><td class = \"rowNumber\" style = \"font-weight: bold; text-align: right;\">10</td><td style = \"text-align: right;\">3.5813</td><td style = \"text-align: right;\">44.1214</td><td style = \"text-align: right;\">19.66</td><td style = \"text-align: right;\">16.18</td><td style = \"text-align: right;\">-0.03</td><td style = \"text-align: right;\">0.14</td><td style = \"text-align: right;\">0.2</td><td style = \"text-align: right;\">0.57</td><td style = \"text-align: left;\">AIGL_GPS</td></tr><tr><td class = \"rowNumber\" style = \"font-weight: bold; text-align: right;\">11</td><td style = \"text-align: right;\">3.3559</td><td style = \"text-align: right;\">47.877</td><td style = \"text-align: right;\">18.68</td><td style = \"text-align: right;\">16.16</td><td style = \"text-align: right;\">-0.14</td><td style = \"text-align: right;\">0.14</td><td style = \"text-align: right;\">0.1</td><td style = \"text-align: right;\">0.42</td><td style = \"text-align: left;\">AILT_GPS</td></tr><tr><td class = \"rowNumber\" style = \"font-weight: bold; text-align: right;\">12</td><td style = \"text-align: right;\">8.7627</td><td style = \"text-align: right;\">41.9274</td><td style = \"text-align: right;\">21.01</td><td style = \"text-align: right;\">15.78</td><td style = \"text-align: right;\">-0.07</td><td style = \"text-align: right;\">0.16</td><td style = \"text-align: right;\">0.14</td><td style = \"text-align: right;\">0.48</td><td style = \"text-align: left;\">AJAC_GPS</td></tr><tr><td class = \"rowNumber\" style = \"font-weight: bold; text-align: right;\">13</td><td style = \"text-align: right;\">-0.4812</td><td style = \"text-align: right;\">38.3389</td><td style = \"text-align: right;\">19.85</td><td style = \"text-align: right;\">16.73</td><td style = \"text-align: right;\">-0.28</td><td style = \"text-align: right;\">0.12</td><td style = \"text-align: right;\">0.11</td><td style = \"text-align: right;\">0.38</td><td style = \"text-align: left;\">ALAC_GPS</td></tr><tr><td style = \"text-align: right;\">&vellip;</td><td style = \"text-align: right;\">&vellip;</td><td style = \"text-align: right;\">&vellip;</td><td style = \"text-align: right;\">&vellip;</td><td style = \"text-align: right;\">&vellip;</td><td style = \"text-align: right;\">&vellip;</td><td style = \"text-align: right;\">&vellip;</td><td style = \"text-align: right;\">&vellip;</td><td style = \"text-align: right;\">&vellip;</td><td style = \"text-align: right;\">&vellip;</td></tr><tr><td class = \"rowNumber\" style = \"font-weight: bold; text-align: right;\">2332</td><td style = \"text-align: right;\">16.155</td><td style = \"text-align: right;\">51.2</td><td style = \"text-align: right;\">20.14</td><td style = \"text-align: right;\">15.24</td><td style = \"text-align: right;\">0.27</td><td style = \"text-align: right;\">0.22</td><td style = \"text-align: right;\">0.25</td><td style = \"text-align: right;\">0.78</td><td style = \"text-align: left;\">LEGN_GPS</td></tr><tr><td class = \"rowNumber\" style = \"font-weight: bold; text-align: right;\">2333</td><td style = \"text-align: right;\">19.6783</td><td style = \"text-align: right;\">49.3692</td><td style = \"text-align: right;\">21.23</td><td style = \"text-align: right;\">14.7</td><td style = \"text-align: right;\">0.96</td><td style = \"text-align: right;\">0.17</td><td style = \"text-align: right;\">0.16</td><td style = \"text-align: right;\">0.59</td><td style = \"text-align: left;\">LIE1_GPS</td></tr><tr><td class = \"rowNumber\" style = \"font-weight: bold; text-align: right;\">2334</td><td style = \"text-align: right;\">8.7577</td><td style = \"text-align: right;\">45.9983</td><td style = \"text-align: right;\">20.0</td><td style = \"text-align: right;\">15.75</td><td style = \"text-align: right;\">0.93</td><td style = \"text-align: right;\">0.19</td><td style = \"text-align: right;\">0.17</td><td style = \"text-align: right;\">0.57</td><td style = \"text-align: left;\">LUIN_GPS</td></tr><tr><td class = \"rowNumber\" style = \"font-weight: bold; text-align: right;\">2335</td><td style = \"text-align: right;\">12.4824</td><td style = \"text-align: right;\">43.6117</td><td style = \"text-align: right;\">22.77</td><td style = \"text-align: right;\">18.06</td><td style = \"text-align: right;\">2.03</td><td style = \"text-align: right;\">0.17</td><td style = \"text-align: right;\">0.12</td><td style = \"text-align: right;\">0.51</td><td style = \"text-align: left;\">PIOB_GPS</td></tr><tr><td class = \"rowNumber\" style = \"font-weight: bold; text-align: right;\">2336</td><td style = \"text-align: right;\">21.7186</td><td style = \"text-align: right;\">48.6195</td><td style = \"text-align: right;\">22.56</td><td style = \"text-align: right;\">14.37</td><td style = \"text-align: right;\">0.32</td><td style = \"text-align: right;\">0.11</td><td style = \"text-align: right;\">0.16</td><td style = \"text-align: right;\">0.51</td><td style = \"text-align: left;\">TREB_GPS</td></tr><tr><td class = \"rowNumber\" style = \"font-weight: bold; text-align: right;\">2337</td><td style = \"text-align: right;\">7.477</td><td style = \"text-align: right;\">59.254</td><td style = \"text-align: right;\">15.56</td><td style = \"text-align: right;\">15.33</td><td style = \"text-align: right;\">2.65</td><td style = \"text-align: right;\">0.28</td><td style = \"text-align: right;\">0.41</td><td style = \"text-align: right;\">1.52</td><td style = \"text-align: left;\">VALC_GPS</td></tr><tr><td class = \"rowNumber\" style = \"font-weight: bold; text-align: right;\">2338</td><td style = \"text-align: right;\">24.0809</td><td style = \"text-align: right;\">43.2801</td><td style = \"text-align: right;\">23.66</td><td style = \"text-align: right;\">12.56</td><td style = \"text-align: right;\">-0.15</td><td style = \"text-align: right;\">0.14</td><td style = \"text-align: right;\">0.16</td><td style = \"text-align: right;\">0.55</td><td style = \"text-align: left;\">CHER_GPS</td></tr><tr><td class = \"rowNumber\" style = \"font-weight: bold; text-align: right;\">2339</td><td style = \"text-align: right;\">26.943</td><td style = \"text-align: right;\">43.2691</td><td style = \"text-align: right;\">23.78</td><td style = \"text-align: right;\">12.49</td><td style = \"text-align: right;\">-0.22</td><td style = \"text-align: right;\">0.12</td><td style = \"text-align: right;\">0.15</td><td style = \"text-align: right;\">0.37</td><td style = \"text-align: left;\">SHUM_GPS</td></tr><tr><td class = \"rowNumber\" style = \"font-weight: bold; text-align: right;\">2340</td><td style = \"text-align: right;\">21.4074</td><td style = \"text-align: right;\">41.9997</td><td style = \"text-align: right;\">24.75</td><td style = \"text-align: right;\">11.96</td><td style = \"text-align: right;\">-0.58</td><td style = \"text-align: right;\">0.16</td><td style = \"text-align: right;\">0.14</td><td style = \"text-align: right;\">0.91</td><td style = \"text-align: left;\">SKOP_GPS</td></tr><tr><td class = \"rowNumber\" style = \"font-weight: bold; text-align: right;\">2341</td><td style = \"text-align: right;\">23.6377</td><td style = \"text-align: right;\">60.7871</td><td style = \"text-align: right;\">19.91</td><td style = \"text-align: right;\">13.1</td><td style = \"text-align: right;\">5.08</td><td style = \"text-align: right;\">0.36</td><td style = \"text-align: right;\">1.12</td><td style = \"text-align: right;\">1.16</td><td style = \"text-align: left;\">FORF_GPS</td></tr><tr><td class = \"rowNumber\" style = \"font-weight: bold; text-align: right;\">2342</td><td style = \"text-align: right;\">18.8582</td><td style = \"text-align: right;\">50.4515</td><td style = \"text-align: right;\">21.36</td><td style = \"text-align: right;\">14.3</td><td style = \"text-align: right;\">-0.11</td><td style = \"text-align: right;\">0.16</td><td style = \"text-align: right;\">0.25</td><td style = \"text-align: right;\">0.68</td><td style = \"text-align: left;\">TAR1_GPS</td></tr><tr><td class = \"rowNumber\" style = \"font-weight: bold; text-align: right;\">2343</td><td style = \"text-align: right;\">21.0069</td><td style = \"text-align: right;\">65.674</td><td style = \"text-align: right;\">16.77</td><td style = \"text-align: right;\">14.35</td><td style = \"text-align: right;\">9.21</td><td style = \"text-align: right;\">0.19</td><td style = \"text-align: right;\">0.41</td><td style = \"text-align: right;\">0.52</td><td style = \"text-align: left;\">ALB1_GPS</td></tr></tbody></table></div>"
      ],
      "text/latex": [
       "\\begin{tabular}{r|ccccccccc}\n",
       "\t& Lon & Lat & E.vel & N.vel & U.vel & E.sig & N.sig & U.sig & Stat\\\\\n",
       "\t\\hline\n",
       "\t& Float64 & Float64 & Float64 & Float64 & Float64 & Float64 & Float64 & Float64 & String\\\\\n",
       "\t\\hline\n",
       "\t1 & 15.9424 & 40.7867 & 23.48 & 19.38 & 0.53 & 0.18 & 0.14 & 0.61 & ACER\\_GPS \\\\\n",
       "\t2 & -8.3989 & 43.3643 & 20.83 & 16.87 & -2.26 & 0.12 & 0.11 & 0.39 & ACOR\\_GPS \\\\\n",
       "\t3 & -4.7412 & 52.7891 & 15.73 & 16.68 & -0.02 & 0.11 & 0.11 & 0.39 & ADAR\\_GPS \\\\\n",
       "\t4 & -1.0557 & 43.7108 & 18.64 & 16.35 & -0.48 & 0.16 & 0.16 & 0.51 & ADAX\\_GPS \\\\\n",
       "\t5 & 23.4353 & 40.0971 & 24.91 & 5.38 & -2.59 & 0.49 & 0.46 & 1.72 & AFYT\\_GPS \\\\\n",
       "\t6 & 3.4663 & 43.2963 & 19.87 & 16.24 & -0.59 & 0.15 & 0.19 & 0.44 & AGDE\\_GPS \\\\\n",
       "\t7 & 3.4743 & 43.3127 & 19.92 & 16.2 & -0.62 & 0.14 & 0.14 & 0.46 & AGDS\\_GPS \\\\\n",
       "\t8 & 0.6117 & 44.1726 & 18.87 & 16.72 & -0.84 & 0.17 & 0.17 & 0.61 & AGEN\\_GPS \\\\\n",
       "\t9 & -1.0143 & 43.3337 & 19.13 & 16.4 & -0.1 & 0.2 & 0.22 & 0.62 & AICI\\_GPS \\\\\n",
       "\t10 & 3.5813 & 44.1214 & 19.66 & 16.18 & -0.03 & 0.14 & 0.2 & 0.57 & AIGL\\_GPS \\\\\n",
       "\t11 & 3.3559 & 47.877 & 18.68 & 16.16 & -0.14 & 0.14 & 0.1 & 0.42 & AILT\\_GPS \\\\\n",
       "\t12 & 8.7627 & 41.9274 & 21.01 & 15.78 & -0.07 & 0.16 & 0.14 & 0.48 & AJAC\\_GPS \\\\\n",
       "\t13 & -0.4812 & 38.3389 & 19.85 & 16.73 & -0.28 & 0.12 & 0.11 & 0.38 & ALAC\\_GPS \\\\\n",
       "\t14 & -1.8563 & 38.9779 & 18.58 & 16.6 & -8.34 & 0.13 & 0.12 & 0.46 & ALBA\\_GPS \\\\\n",
       "\t15 & 38.9061 & 48.4569 & 24.61 & 11.37 & 0.35 & 0.14 & 0.14 & 0.59 & ALCI\\_GPS \\\\\n",
       "\t16 & 25.8534 & 40.8492 & 23.71 & 12.09 & 0.13 & 0.18 & 0.24 & 0.87 & ALEX\\_GPS \\\\\n",
       "\t17 & -2.4595 & 36.8525 & 18.66 & 16.29 & -0.03 & 0.13 & 0.12 & 0.4 & ALME\\_GPS \\\\\n",
       "\t18 & 3.6268 & 47.0419 & 18.91 & 16.27 & -0.58 & 0.2 & 0.18 & 0.65 & ALU2\\_GPS \\\\\n",
       "\t19 & 3.7501 & 45.5407 & 19.54 & 16.06 & -0.16 & 0.14 & 0.13 & 0.53 & AMB2\\_GPS \\\\\n",
       "\t20 & 0.9942 & 49.8593 & 17.33 & 16.01 & -1.0 & 0.18 & 0.2 & 0.62 & AMBL\\_GPS \\\\\n",
       "\t21 & 2.7281 & 47.965 & 18.55 & 16.32 & -0.82 & 0.19 & 0.17 & 0.75 & AMIY\\_GPS \\\\\n",
       "\t22 & 2.2383 & 49.8589 & 17.94 & 15.74 & -0.53 & 0.22 & 0.19 & 0.58 & AMNS\\_GPS \\\\\n",
       "\t23 & 16.604 & 40.9073 & 23.56 & 19.37 & 0.26 & 0.13 & 0.12 & 0.5 & AMUR\\_GPS \\\\\n",
       "\t24 & 23.9041 & 37.7334 & 7.61 & -12.46 & 0.12 & 0.23 & 0.19 & 0.92 & ANAV\\_GPS \\\\\n",
       "\t$\\dots$ & $\\dots$ & $\\dots$ & $\\dots$ & $\\dots$ & $\\dots$ & $\\dots$ & $\\dots$ & $\\dots$ & $\\dots$ \\\\\n",
       "\\end{tabular}\n"
      ],
      "text/plain": [
       "\u001b[1m2343×9 DataFrame\u001b[0m\n",
       "\u001b[1m  Row \u001b[0m│\u001b[1m Lon     \u001b[0m\u001b[1m Lat     \u001b[0m\u001b[1m E.vel   \u001b[0m\u001b[1m N.vel   \u001b[0m\u001b[1m U.vel   \u001b[0m\u001b[1m E.sig   \u001b[0m\u001b[1m N.sig   \u001b[0m\u001b[1m U.sig  \u001b[0m ⋯\n",
       "      │\u001b[90m Float64 \u001b[0m\u001b[90m Float64 \u001b[0m\u001b[90m Float64 \u001b[0m\u001b[90m Float64 \u001b[0m\u001b[90m Float64 \u001b[0m\u001b[90m Float64 \u001b[0m\u001b[90m Float64 \u001b[0m\u001b[90m Float64\u001b[0m ⋯\n",
       "──────┼─────────────────────────────────────────────────────────────────────────\n",
       "    1 │ 15.9424  40.7867    23.48    19.38     0.53     0.18     0.14     0.61 ⋯\n",
       "    2 │ -8.3989  43.3643    20.83    16.87    -2.26     0.12     0.11     0.39\n",
       "    3 │ -4.7412  52.7891    15.73    16.68    -0.02     0.11     0.11     0.39\n",
       "    4 │ -1.0557  43.7108    18.64    16.35    -0.48     0.16     0.16     0.51\n",
       "    5 │ 23.4353  40.0971    24.91     5.38    -2.59     0.49     0.46     1.72 ⋯\n",
       "    6 │  3.4663  43.2963    19.87    16.24    -0.59     0.15     0.19     0.44\n",
       "    7 │  3.4743  43.3127    19.92    16.2     -0.62     0.14     0.14     0.46\n",
       "    8 │  0.6117  44.1726    18.87    16.72    -0.84     0.17     0.17     0.61\n",
       "  ⋮   │    ⋮        ⋮        ⋮        ⋮        ⋮        ⋮        ⋮        ⋮    ⋱\n",
       " 2337 │  7.477   59.254     15.56    15.33     2.65     0.28     0.41     1.52 ⋯\n",
       " 2338 │ 24.0809  43.2801    23.66    12.56    -0.15     0.14     0.16     0.55\n",
       " 2339 │ 26.943   43.2691    23.78    12.49    -0.22     0.12     0.15     0.37\n",
       " 2340 │ 21.4074  41.9997    24.75    11.96    -0.58     0.16     0.14     0.91\n",
       " 2341 │ 23.6377  60.7871    19.91    13.1      5.08     0.36     1.12     1.16 ⋯\n",
       " 2342 │ 18.8582  50.4515    21.36    14.3     -0.11     0.16     0.25     0.68\n",
       " 2343 │ 21.0069  65.674     16.77    14.35     9.21     0.19     0.41     0.52\n",
       "\u001b[36m                                                  1 column and 2328 rows omitted\u001b[0m"
      ]
     },
     "metadata": {},
     "output_type": "display_data"
    }
   ],
   "source": [
    "CommonSlave=SlaveDataset[indxCommonSlave.==true,:]"
   ]
  },
  {
   "cell_type": "code",
   "execution_count": null,
   "metadata": {},
   "outputs": [],
   "source": [
    "\n",
    "# Look at the common sites\n",
    "SAK.plot_vector_map_S(range_plot, 5e-2, Matrix(MasterDataset3[MasterIndices,[1,2,3,4]]),projection_s=\"M10c\",color=\"red\")\n",
    "SAK.plot_vector_map_S(range_plot, 5e-2, Matrix(SlaveDataset3[SlaveIndices,[1,2,3,4]]),color=\"blue\",Are_you_Overwriting=true)\n",
    "GMT.plot!([NaN],[NaN],name=\"initial.pdf\")\n",
    "SAK.plot_vector_map_S(range_plot, 5e-2, Matrix(MasterDataset3[MasterIndices,[1,2,3,4]]),projection_s=\"M10c\",color=\"red\")\n",
    "SAK.plot_vector_map_S(range_plot, 5e-2, Matrix(SlaveDataset3[SlaveIndices,[1,2,12,13]]),color=\"blue\",Are_you_Overwriting=true)\n",
    "GMT.plot!([NaN],[NaN],name=\"rotation.pdf\")\n",
    "SAK.plot_vector_map_S(range_plot, 5e-2, Matrix(MasterDataset3[MasterIndices,[1,2,3,4]]),projection_s=\"M10c\",color=\"red\")\n",
    "SAK.plot_vector_map_S(range_plot, 5e-2, Matrix(SlaveDataset3[SlaveIndices,[1,2,10,11]]),color=\"blue\",Are_you_Overwriting=true)\n",
    "GMT.plot!([NaN],[NaN],name=\"final.pdf\")"
   ]
  },
  {
   "cell_type": "code",
   "execution_count": null,
   "metadata": {},
   "outputs": [],
   "source": [
    "Plots.histogram(MasterDataset3[MasterIndices,4]./SlaveDataset3[SlaveIndices,11])\n",
    "Plots.xlims!(-2,2)"
   ]
  }
 ],
 "metadata": {
  "kernelspec": {
   "display_name": "Julia 1.10.2",
   "language": "julia",
   "name": "julia-1.10"
  },
  "language_info": {
   "file_extension": ".jl",
   "mimetype": "application/julia",
   "name": "julia",
   "version": "1.10.2"
  }
 },
 "nbformat": 4,
 "nbformat_minor": 2
}
